{
 "cells": [
  {
   "cell_type": "markdown",
   "metadata": {
    "id": "OvrF8jMlL_6E"
   },
   "source": [
    "*Mini Workshop on High Performance Computing in Science and Engineering*\n",
    "\n",
    "# Taller: **Conociendo la computación cuántica**\n",
    "\n"
   ]
  },
  {
   "cell_type": "markdown",
   "metadata": {
    "id": "-LW1JYnnMUsb"
   },
   "source": [
    "## Conociendo al Qubit\n",
    "\n",
    "El **qubit** es la *unidad fundamental de los ordenadores cuánticos*. Es con ella que se puede hacer los cáluclos e interpretación de la información en los cálculos.\n",
    "\n",
    "El qubit presenta las cuálidades de poderse comportar como una onda o como una partícula."
   ]
  },
  {
   "cell_type": "markdown",
   "metadata": {
    "id": "ZQtkDeQXM7Av"
   },
   "source": [
    "### El qubit como una onda\n",
    "\n",
    "A continuación puede ingresar al siguiente link donde podrás encontrar un simulador de del comportamiento y experimentación quántico.\n",
    "\n",
    "[Virtual lab of Quantum Flytrap](https://lab.quantumflytrap.com/)\n",
    "\n",
    "![texto alternativo](https://drive.google.com/uc?id=1iiy2AT--OYs63QHXTdau08pKhDJy9_B_)\n",
    "\n",
    "Te proponemos los siguientes casos de experimentación:\n",
    "\n",
    "\n",
    "1.   Detección de un fotón\n",
    "2.   Dividir la probabilidad de detección\n",
    "3.   Dividir la señal y recontruirla.\n",
    "\n",
    "*Solución:*\n",
    "\n",
    "![texto alternativo](https://drive.google.com/uc?id=1wBTOE2gG8lmwnoQ2hp-ki6OQoiXtQ-Ti)"
   ]
  },
  {
   "cell_type": "markdown",
   "metadata": {
    "id": "3RaI0Ra5SSH2"
   },
   "source": [
    "### Representación del Qubit como Ket\n",
    "\n",
    "Otra forma en la que es posible representar al qubits de forma de *ket* la cuál también es conocida como la *Notación de Dirac*.\n",
    "\n",
    "A continuación, experimentaremos con ella:"
   ]
  },
  {
   "cell_type": "code",
   "execution_count": null,
   "metadata": {
    "colab": {
     "base_uri": "https://localhost:8080/"
    },
    "id": "vyNzINZySv4y",
    "outputId": "ddb6b0b3-8c53-4872-d159-161400059431"
   },
   "outputs": [],
   "source": [
    "#INSTALACIÓN DE LIBRERÍAS\n",
    "\n",
    "!pip install qiskit==0.39.2\n",
    "!pip install pylatexenc\n",
    "\n",
    "# Importamos las librerias estandar de Qiskit\n",
    "from qiskit import QuantumCircuit  #Importamos la función de QuantumCircuit para crear nuestros circuitos cuánticos\n",
    "\n",
    "#Usaremos estas funciones para correr nuestros circuitos y visualizar resultados\n",
    "from qiskit import Aer, execute, transpile, assemble, execute\n",
    "#from qiskit.visualization import visualize_transition, plot_bloch_vector, plot_state_qsphere, plot_bloch_multivector\n",
    "from qiskit.visualization import *\n",
    "\n",
    "import warnings  #Usaremos esta librería para omitir los warnings generados\n",
    "warnings.filterwarnings(\"ignore\")\n",
    "\n",
    "from numpy.random import randint # Generador de números aleatorios clásico\n",
    "import numpy as np\n",
    "from math import sqrt, pi\n",
    "\n",
    "import qiskit\n",
    "qiskit.__version__\n",
    "qiskit.__qiskit_version__\n",
    "\n",
    "print(\"\\n\\n ---> LIBRERIAS IMPORTADAS EXITOSAMENTE <---\")"
   ]
  },
  {
   "cell_type": "code",
   "execution_count": null,
   "metadata": {
    "colab": {
     "base_uri": "https://localhost:8080/",
     "height": 127
    },
    "id": "_Jt1yRwsUjH3",
    "outputId": "ba6f8982-7d51-428f-e6fc-34de30dabffb"
   },
   "outputs": [],
   "source": [
    "#CREAMOS NUESTRO PRIMER CIRCUITO CUÁNTICO DEL ESTADO |0>\n",
    "\n",
    "qc0 = QuantumCircuit(1) #Creación de un circuito cuántico de 1 qubit\n",
    "\n",
    "initial_state = [1,0]   # Definimos su estado inicial como |0>\n",
    "qc0.initialize(initial_state, 0) #Aplicamos la inicializacion de estado en nuestro único qubit\n",
    "qc0.draw('mpl')  # Visualizamos nuestro circuito\n"
   ]
  },
  {
   "cell_type": "code",
   "execution_count": null,
   "metadata": {
    "colab": {
     "base_uri": "https://localhost:8080/",
     "height": 228
    },
    "id": "yvMxh_nVVYDy",
    "outputId": "a0453327-a490-478c-8c7d-80acd2950080"
   },
   "outputs": [],
   "source": [
    "#SIMULAMOS SU COMPORTAMIENTO Y CREAMOS SU MEDICIÓN\n",
    "\n",
    "sim = Aer.get_backend('aer_simulator')  # Indicamos el tipo de simulador para el circuito\n",
    "qc0.save_statevector()   # Le decimos al simulador que guarde el vector de estadp\n",
    "qobj0 = assemble(qc0)     # Creaqos un Qobj del circuito para el simulador\n",
    "result = sim.run(qobj0).result() # Simulamos y retornamos el resultado\n",
    "\n",
    "out_state0 = result.get_statevector()\n",
    "print(out_state0) # Imprimos el resulyado y la medición\n",
    "\n",
    "qc0.measure_all()\n",
    "qc0.draw('mpl')\n"
   ]
  },
  {
   "cell_type": "code",
   "execution_count": null,
   "metadata": {
    "colab": {
     "base_uri": "https://localhost:8080/",
     "height": 449
    },
    "id": "8jM06U0UY9tF",
    "outputId": "7d9fc062-57bf-4ca7-f8d1-da137119dcbd"
   },
   "outputs": [],
   "source": [
    "#OBTEMOS LA PROBABILIDAD DEL ESTADO\n",
    "\n",
    "counts = result.get_counts()\n",
    "plot_histogram(counts)"
   ]
  },
  {
   "cell_type": "code",
   "execution_count": null,
   "metadata": {
    "colab": {
     "base_uri": "https://localhost:8080/",
     "height": 468
    },
    "id": "YOraNpCNd9bT",
    "outputId": "6910c6d4-2bd2-42aa-ca5d-2b98bc77e0dc"
   },
   "outputs": [],
   "source": [
    "#REPRESENTACIÓN DE LA ESFERA DE BLOCH DEL ESTADO |0>\n",
    "\n",
    "#plot_state_qsphere(out_state0, show_state_phases = True, use_degrees = True)\n",
    "plot_bloch_multivector(out_state0, title='Esfera de Bloch del Estado |1>', reverse_bits=True)"
   ]
  },
  {
   "cell_type": "code",
   "execution_count": null,
   "metadata": {
    "colab": {
     "base_uri": "https://localhost:8080/",
     "height": 486
    },
    "id": "7wOL9f8GZhYc",
    "outputId": "f6d0e78c-9ee4-45ec-d91c-234f661fe3dd"
   },
   "outputs": [],
   "source": [
    "#CREAMOS NUESTRO SEGUNDO CIRCUITO CUÁNTICO CON EL ESTADO |1>\n",
    "\n",
    "qc1 = QuantumCircuit(1) #Creación de un circuito cuántico de 1 qubit\n",
    "\n",
    "#¿Cómo sería el estado inicial?\n",
    "initial_state = [0,1]   # Definimos su estado inicial como |1>\n",
    "\n",
    "qc1.initialize(initial_state, 0) #Aplicamos la inicializacion de estado en nuestro único qubit\n",
    "sim = Aer.get_backend('aer_simulator')  # Indicamos el tipo de simulador para el circuito\n",
    "qc1.save_statevector()   # Le decimos al simulador que guarde el vector de estadp\n",
    "qobj1 = assemble(qc1)     # Creaqos un Qobj del circuito para el simulador\n",
    "result = sim.run(qobj1).result() # Simulamos y retornamos el resultado\n",
    "out_state1 = result.get_statevector()\n",
    "print(out_state1) # Imprimos el resultado y la medición\n",
    "qc1.measure_all()\n",
    "counts = result.get_counts()\n",
    "plot_histogram(counts)\n"
   ]
  },
  {
   "cell_type": "code",
   "execution_count": null,
   "metadata": {
    "colab": {
     "base_uri": "https://localhost:8080/",
     "height": 468
    },
    "id": "aVRxJTih6Sbu",
    "outputId": "498bf441-21f5-4c00-91d4-741982e2c741"
   },
   "outputs": [],
   "source": [
    "#REPRESENTACIÓN DE LA ESFERA DE BLOCH DEL ESTADO |1>\n",
    "\n",
    "#plot_state_qsphere(out_state1, show_state_phases = True, use_degrees = True)\n",
    "plot_bloch_multivector(out_state1, title='Esfera de Bloch del Estado |1>', reverse_bits=True)"
   ]
  },
  {
   "cell_type": "code",
   "execution_count": null,
   "metadata": {
    "colab": {
     "base_uri": "https://localhost:8080/",
     "height": 127
    },
    "id": "vDSqqBJwaxR7",
    "outputId": "37276cc6-6079-49c7-e282-e0e3b2b5244d"
   },
   "outputs": [],
   "source": [
    "#CREAMOS NUESTRO TERCER CIRCUITO CUÁNTICO CON UN ESTADO DE SUPERPOSICIÓN\n",
    "\n",
    "qcS = QuantumCircuit(1) #Creación de un circuito cuántico de 1 qubit\n",
    "\n",
    "initial_state = [1/sqrt(2), 1/sqrt(2)]    # Definimos su estado inicial\n",
    "qcS.initialize(initial_state, 0) #Aplicamos la inicializacion de estado en nuestro único qubit\n",
    "qcS.draw('mpl')  # Visualizamos nuestro circuito"
   ]
  },
  {
   "cell_type": "code",
   "execution_count": null,
   "metadata": {
    "colab": {
     "base_uri": "https://localhost:8080/",
     "height": 228
    },
    "id": "mlJi9WGpbMMo",
    "outputId": "fda2144e-2449-453e-dcb2-8c5c2d59013d"
   },
   "outputs": [],
   "source": [
    "#SIMULAMOS SU COMPORTAMIENTO Y CREAMOS SU MEDICIÓN\n",
    "\n",
    "sim = Aer.get_backend('aer_simulator')  # Indicamos el tipo de simulador para el circuito\n",
    "qcS.save_statevector()   # Le decimos al simulador que guarde el vector de estadp\n",
    "qobjS = assemble(qcS)     # Creaqos un Qobj del circuito para el simulador\n",
    "result = sim.run(qobjS).result() # Simulamos y retornamos el resultado\n",
    "\n",
    "out_stateS = result.get_statevector()\n",
    "print(out_stateS) # Imprimos el resulyado y la medición\n",
    "\n",
    "qcS.measure_all()\n",
    "qcS.draw('mpl')\n"
   ]
  },
  {
   "cell_type": "code",
   "execution_count": null,
   "metadata": {
    "colab": {
     "base_uri": "https://localhost:8080/",
     "height": 449
    },
    "id": "IyR8423fcPpk",
    "outputId": "14631b66-1c6f-4f45-b900-82b73a25e5a0"
   },
   "outputs": [],
   "source": [
    "#OBTEMOS LA PROBABILIDAD DEL ESTADO\n",
    "\n",
    "counts = result.get_counts()\n",
    "plot_histogram(counts)"
   ]
  },
  {
   "cell_type": "code",
   "execution_count": null,
   "metadata": {
    "colab": {
     "base_uri": "https://localhost:8080/",
     "height": 468
    },
    "id": "9fknHusD-Rvy",
    "outputId": "5f823c8a-063c-46ab-e497-e2ec3167520b"
   },
   "outputs": [],
   "source": [
    "#REPRESENTACIÓN DE LA ESFERA DE BLOCH DEL ESTADO EN SUPERPOSICIÓN\n",
    "\n",
    "#plot_state_qsphere(out_stateS, show_state_phases = True, use_degrees = True)\n",
    "plot_bloch_multivector(out_stateS, title='Esfera de Bloch del Estado en Superposición', reverse_bits=True)"
   ]
  },
  {
   "cell_type": "markdown",
   "metadata": {
    "id": "ZLJGeMd1-8f3"
   },
   "source": [
    "**Reto**:\n",
    "\n",
    "Pongamos en práctica tu visualización de superposición y representa de forma correcta las siguientes propabilidades de encontrar los qubits como se indican:\n",
    "\n",
    "1.   10% en el estado $| 0 \\rangle$ y 90% en el estado $| 1 \\rangle$\n",
    "2.   40% en el estado $| 0 \\rangle$  y 60% en el estado $| 1 \\rangle$\n",
    "3.   80% en el estado $| 0 \\rangle$  y 20% en el estado $| 1 \\rangle$\n",
    "\n"
   ]
  },
  {
   "cell_type": "code",
   "execution_count": null,
   "metadata": {
    "colab": {
     "base_uri": "https://localhost:8080/",
     "height": 164
    },
    "id": "stxE48QWG1Kg",
    "outputId": "cbbc0e0a-a380-4d45-a434-7b0445649155"
   },
   "outputs": [],
   "source": [
    "#Definimos las probabilidades para cada estado:\n",
    "\n",
    "while True:\n",
    "  state0 = float(input(\"Ingrese probabilidad de |0>: \"))\n",
    "  state1 = float(input(\"Ingrese probabilidad de |1>: \"))\n",
    "  if (state0 + state1) == 100: #Sino está normalizado, reingresar\n",
    "    break\n",
    "  else:\n",
    "    print(\"Estado no normalizado, intente de nuevo \\n\")\n",
    "\n",
    "#Se definen los coeficientes del estado\n",
    "a_State0 = sqrt(state0/100.0)\n",
    "b_State1 = sqrt(state1/100.0)\n",
    "\n",
    "qcReto = QuantumCircuit(1) #Creación de un circuito cuántico de 1 qubit\n",
    "initial_state = [a_State0, b_State1]    # Definimos su estado inicial\n",
    "qcReto.initialize(initial_state, 0) #Aplicamos la inicializacion de estado en nuestro único qubit\n",
    "qcReto.draw('mpl')\n"
   ]
  },
  {
   "cell_type": "code",
   "execution_count": null,
   "metadata": {
    "colab": {
     "base_uri": "https://localhost:8080/",
     "height": 228
    },
    "id": "L4iJO3jOJDUR",
    "outputId": "e967519b-f845-490c-d2d7-768986f2ff9c"
   },
   "outputs": [],
   "source": [
    "#SIMULAMOS SU COMPORTAMIENTO Y CREAMOS SU MEDICIÓN\n",
    "\n",
    "sim = Aer.get_backend('aer_simulator')  # Indicamos el tipo de simulador para el circuito\n",
    "qcReto.save_statevector()   # Le decimos al simulador que guarde el vector de estadp\n",
    "qobjReto = assemble(qcReto)     # Creaqos un Qobj del circuito para el simulador\n",
    "result = sim.run(qobjReto).result() # Simulamos y retornamos el resultado\n",
    "\n",
    "out_stateReto = result.get_statevector()\n",
    "print(out_stateReto) # Imprimos el resultado y la medición\n",
    "\n",
    "qcReto.measure_all()\n",
    "qcReto.draw('mpl')"
   ]
  },
  {
   "cell_type": "code",
   "execution_count": null,
   "metadata": {
    "colab": {
     "base_uri": "https://localhost:8080/",
     "height": 449
    },
    "id": "zL3F0G13JhvZ",
    "outputId": "c9e7b0f7-4f1e-4d2f-e342-5cf9440b2479"
   },
   "outputs": [],
   "source": [
    "#OBTEMOS LA PROBABILIDAD DEL ESTADO\n",
    "\n",
    "counts = result.get_counts()\n",
    "plot_histogram(counts)"
   ]
  },
  {
   "cell_type": "code",
   "execution_count": null,
   "metadata": {
    "colab": {
     "base_uri": "https://localhost:8080/",
     "height": 468
    },
    "id": "7Nri8l9nJqlh",
    "outputId": "12711073-9606-4316-d620-6989243c2772"
   },
   "outputs": [],
   "source": [
    "#REPRESENTACIÓN DE LA ESFERA DE BLOCH DEL ESTADO EN SUPERPOSICIÓN\n",
    "\n",
    "#plot_state_qsphere(out_stateS, show_state_phases = True, use_degrees = True)\n",
    "plot_bloch_multivector(out_stateReto, title='Esfera de Bloch del Estado del Reto', reverse_bits=True)"
   ]
  },
  {
   "cell_type": "markdown",
   "metadata": {
    "id": "OgqZ0Y8oL4i3"
   },
   "source": [
    "## Manipulando al Qubit"
   ]
  },
  {
   "cell_type": "markdown",
   "metadata": {
    "id": "mFbxHm9XQuOh"
   },
   "source": [
    "### Compuerta X\n",
    "\n",
    "Permite una rotación de 180° (lo contrario a lo que se tiene a la entrada)\n",
    "\n"
   ]
  },
  {
   "cell_type": "code",
   "execution_count": null,
   "metadata": {
    "colab": {
     "base_uri": "https://localhost:8080/",
     "height": 1000
    },
    "id": "O-awDtd8Q4Or",
    "outputId": "638418df-3978-4981-e3b2-4425da415d7b"
   },
   "outputs": [],
   "source": [
    "# HACIENDO USO DE LA COMPUERTA X\n",
    "\n",
    "qc_X1 = QuantumCircuit(1) #Creamos un circuito de 1 solo qubit. Por defecto, siempre se inicializa en |0>\n",
    "\n",
    "qc_X1.x(0)  #Aplicamos  la compuerta X al único qubit del circuito. Index = 0\n",
    "\n",
    "visualize_transition(qc_X1, trace=True, fpg=10) #Visualizamos la transición.\n",
    "#Si se quiere ver la trayectoria, trace=True. De lo contrario, False\n",
    "#Para reducir tamaño de simulación se puede modificar la resolución de la trayectoria: fpg = 5 - 30"
   ]
  },
  {
   "cell_type": "code",
   "execution_count": null,
   "metadata": {
    "colab": {
     "base_uri": "https://localhost:8080/",
     "height": 1000
    },
    "id": "Lv3QiZiBSamV",
    "outputId": "fb33b30c-27b9-4fc0-e21d-a89d50d83f6a"
   },
   "outputs": [],
   "source": [
    "# HACIENDO USO DE LA COMPUERTA X\n",
    "\n",
    "qc_X1.x(0)  #Aplicamos  la compuerta X al único qubit del circuito. Index = 0\n",
    "qc_X1.x(0)  #Nuevamente aplicamos  la compuerta X al único qubit del circuito. Index = 0\n",
    "\n",
    "visualize_transition(qc_X1, trace=True, fpg=10) #Visualizamos la transición.\n",
    "#Si se quiere ver la trayectoria, trace=True. De lo contrario, False\n",
    "#Para reducir tamaño de simulación se puede modificar la resolución de la trayectoria: fpg = 5 - 30"
   ]
  },
  {
   "cell_type": "markdown",
   "metadata": {
    "id": "TdL-SmqeXeXd"
   },
   "source": [
    "### Compuerta H\n",
    "\n",
    "Permite la superposición entre los estados $| 0 \\rangle$ y $| 1 \\rangle$"
   ]
  },
  {
   "cell_type": "code",
   "execution_count": null,
   "metadata": {
    "colab": {
     "base_uri": "https://localhost:8080/",
     "height": 1000
    },
    "id": "Orz_IqkAXqbm",
    "outputId": "869e9907-5a6d-4213-c192-12422b2edbe1"
   },
   "outputs": [],
   "source": [
    "# HACIENDO USO DE LA COMPUERTA H\n",
    "\n",
    "qc_H1 = QuantumCircuit(1) #Creamos un circuito de 1 solo qubit. Por defecto, siempre se inicializa en |0>\n",
    "\n",
    "qc_H1.h(0)  #Aplicamos  la compuerta H al único qubit del circuito. Index = 0\n",
    "\n",
    "visualize_transition(qc_H1, trace=True, fpg=10) #Visualizamos la transición.\n",
    "#Si se quiere ver la trayectoria, trace=True. De lo contrario, False\n",
    "#Para reducir tamaño de simulación se puede modificar la resolución de la trayectoria: fpg = 5 - 30"
   ]
  },
  {
   "cell_type": "code",
   "execution_count": null,
   "metadata": {
    "colab": {
     "base_uri": "https://localhost:8080/",
     "height": 1000
    },
    "id": "wQpFTYfsX5g-",
    "outputId": "d9c29bc6-52ab-41f8-9951-fc25f0e8a0ce"
   },
   "outputs": [],
   "source": [
    "# HACIENDO USO DE LA COMPUERTA H\n",
    "\n",
    "qc_H2 = QuantumCircuit(1) #Creamos un circuito de 1 solo qubit. Por defecto, siempre se inicializa en |0>\n",
    "\n",
    "qc_H2.x(0)  #Nos colocamos en el estado |1>\n",
    "qc_H2.h(0)  #Aplicamos  la compuerta H al único qubit del circuito. Index = 0\n",
    "\n",
    "visualize_transition(qc_H2, trace=True, fpg=10) #Visualizamos la transición.\n",
    "#Si se quiere ver la trayectoria, trace=True. De lo contrario, False\n",
    "#Para reducir tamaño de simulación se puede modificar la resolución de la trayectoria: fpg = 5 - 30"
   ]
  },
  {
   "cell_type": "markdown",
   "metadata": {
    "id": "9A5dexbJYknF"
   },
   "source": [
    "**Nota**\n",
    "\n",
    "Si se esta en $| + \\rangle$ ó $|- \\rangle$, no se puede aplicar una compuerta X a ellos para ir de uno a otro.\n",
    "\n",
    "Se tiene que regresar o posicionarse en $| 0 \\rangle$ ó $| 1 \\rangle$ y aplicar la compuerta H para ir a $| + \\rangle$ ó $|- \\rangle$"
   ]
  },
  {
   "cell_type": "code",
   "execution_count": null,
   "metadata": {
    "colab": {
     "base_uri": "https://localhost:8080/",
     "height": 1000
    },
    "id": "etvWRBYwZzYQ",
    "outputId": "782aac6e-9f5c-4416-d2ea-ad303a8a5b47"
   },
   "outputs": [],
   "source": [
    "# HACIENDO USO DE LA COMPUERTA H\n",
    "\n",
    "qc_H3 = QuantumCircuit(1) #Creamos un circuito de 1 solo qubit. Por defecto, siempre se inicializa en |0>\n",
    "\n",
    "\n",
    "qc_H3.h(0)  #Aplicamos  la compuerta H al único qubit del circuito. Index = 0\n",
    "qc_H3.x(0)  #¿Qué pasará?\n",
    "\n",
    "visualize_transition(qc_H3, trace=True, fpg=10) #Visualizamos la transición.\n",
    "#Si se quiere ver la trayectoria, trace=True. De lo contrario, False\n",
    "#Para reducir tamaño de simulación se puede modificar la resolución de la trayectoria: fpg = 5 - 30"
   ]
  },
  {
   "cell_type": "code",
   "execution_count": null,
   "metadata": {
    "colab": {
     "base_uri": "https://localhost:8080/",
     "height": 1000
    },
    "id": "elMWLbiLam5G",
    "outputId": "a0438084-89ac-4ef8-80d1-0c8b42855af0"
   },
   "outputs": [],
   "source": [
    "# HACIENDO USO DE LA COMPUERTA H\n",
    "\n",
    "qc_H3 = QuantumCircuit(1) #Creamos un circuito de 1 solo qubit. Por defecto, siempre se inicializa en |0>\n",
    "\n",
    "qc_H3.x(0)  #Nos colocamos en el estado |1>\n",
    "qc_H3.h(0)  #Aplicamos  la compuerta H al único qubit del circuito. Index = 0\n",
    "qc_H3.x(0)  #¿Qué pasará?\n",
    "\n",
    "visualize_transition(qc_H3, trace=True, fpg=10) #Visualizamos la transición.\n",
    "#Si se quiere ver la trayectoria, trace=True. De lo contrario, False\n",
    "#Para reducir tamaño de simulación se puede modificar la resolución de la trayectoria: fpg = 5 - 30"
   ]
  },
  {
   "cell_type": "markdown",
   "metadata": {
    "id": "ABHCSI_awD2H"
   },
   "source": [
    "Esta compuerta de Hadamard nos permite tener una probabilidad del 50%, 50% para que el estado colapse en el estado $| 0 \\rangle$ ó $| 1 \\rangle$, esto es prácticamente un volado.\n",
    "\n",
    "Para comprobarlo, realizaremos los siguientes experimentos."
   ]
  },
  {
   "cell_type": "code",
   "execution_count": null,
   "metadata": {
    "colab": {
     "base_uri": "https://localhost:8080/",
     "height": 191
    },
    "id": "Xewt6JEAwnQ3",
    "outputId": "ee64237b-a21f-4dc9-86a6-0a8b5e1dbf1e"
   },
   "outputs": [],
   "source": [
    "# COMPROBANDO LA PROBABILIDAD DE LA COMPUERTA DE HADAMARD\n",
    "\n",
    "qcVolado = QuantumCircuit(1,1) #Se crear un circuito con 1 qubit y 1 bit clásico\n",
    "\n",
    "qcVolado.h(0) #Aplicamos la compuerta H al qubit\n",
    "\n",
    "qcVolado.measure(0,0) #Medimos el qubit y lo guardamos en el bit\n",
    "\n",
    "qcVolado.draw('mpl')   #Dibujamos el circuito"
   ]
  },
  {
   "cell_type": "code",
   "execution_count": null,
   "metadata": {
    "colab": {
     "base_uri": "https://localhost:8080/",
     "height": 449
    },
    "id": "tbXMFhmryFGj",
    "outputId": "d31754e4-7b97-423f-9e06-795e0aef83f6"
   },
   "outputs": [],
   "source": [
    "# Simularemos usando QASM\n",
    "backend = Aer.get_backend('qasm_simulator')\n",
    "job = execute(qcVolado, backend = backend, shots = 1024)  # Aseguremonos que el nombre del circuito coincida.\n",
    "                                                          # 1024 repeticiones del experimento\n",
    "result = job.result()\n",
    "counts = result.get_counts()\n",
    "plot_histogram(counts)"
   ]
  },
  {
   "cell_type": "markdown",
   "metadata": {
    "id": "0cQIL_L_zDfa"
   },
   "source": [
    "### **Volado Cuántico**\n",
    "\n",
    "Corre la celda de abajo para jugar el volado donde la computadora te permitira usar las propiedades cuánticas que hemos abordado hasta el momento."
   ]
  },
  {
   "cell_type": "code",
   "execution_count": null,
   "metadata": {
    "colab": {
     "base_uri": "https://localhost:8080/",
     "height": 577,
     "referenced_widgets": [
      "2501704e9da545349ce1df16bacf4c9d",
      "9b945fd5a3734493959ab493d513ea89",
      "64bee3acc6a642cfa152c000dd4b9eeb",
      "3a49780ea225447cacd7a7c4df1907f4",
      "0ab5b5947cf144a29b5af4764918e339",
      "0125a196d1264f04b030c449f5c8ee1f",
      "f53d7e28f6174caeaebd95f0076c67f5",
      "a93da1d2885944be8e774e5e542f425e",
      "12b148427f5845799699da8887749b2d",
      "3e0f0352a9324ed09ebb510f3f15eb95"
     ]
    },
    "id": "AxCVjnd7zX1g",
    "outputId": "e9bea4e2-a0fb-4848-d512-ae0d2e989668"
   },
   "outputs": [],
   "source": [
    "from qiskit.tools.jupyter import *\n",
    "from qiskit.visualization import *\n",
    "import qiskit.tools.jupyter\n",
    "import ipywidgets as widgets\n",
    "\n",
    "print(\"Bienvenido al Volado Cuántico. La moneda empieza en SOL, la cuál corresponde al estado |0>.\")\n",
    "print(\"Estarás jugando contra la Computadora Cuántica.\")\n",
    "print(\"Elige el lado de la moneda\")\n",
    "\n",
    "# Layout\n",
    "button = widgets.Button(\n",
    "    description='¡Juguemos!')\n",
    "player2_move = widgets.Dropdown(\n",
    "    options=[('Jugar con SOL', 'SOL'), ('Jugar con AGUILA', 'AGUILA')],\n",
    "    description='Elección: ',\n",
    "    disabled=False,\n",
    ")\n",
    "out = widgets.Output()\n",
    "\n",
    "def on_button_clicked(b):\n",
    "    with out:\n",
    " #--------------------------------------------El código del Volado----------------------------------------------------------#\n",
    "        # Iniciamos el circuito\n",
    "        qc = QuantumCircuit(1, 1)\n",
    "\n",
    "        # Ejecución del  Volado\n",
    "        if player2_move.value == 'SOL':\n",
    "            qc.h(0)\n",
    "            print('Elegiste SOL')\n",
    "        if player2_move.value == 'AGUILA':\n",
    "            qc.x(0)\n",
    "            qc.h(0)\n",
    "            print('Elegiste AGUILA')\n",
    "\n",
    "        # Medición\n",
    "        qc.measure(0,0)\n",
    "\n",
    "        # Simulador QASM\n",
    "        backend= Aer.get_backend('qasm_simulator')\n",
    "        job = execute(qc, backend, shots=1)\n",
    "        result = job.result()\n",
    "        counts = result.get_counts()\n",
    "\n",
    "        # Resultado\n",
    "        if '0' in counts:\n",
    "            print(\"Has perdido :( . La Computadora Cuántica Ganó. Intenta de nuevo \")\n",
    "        if '1' in counts:\n",
    "            print(\"Has ganado :D . ¡Excelente!\")\n",
    "\n",
    "        print(\"\\n\")\n",
    " #--------------------------------------------Termina el código del juego----------------------------------------------------------#\n",
    "button.on_click(on_button_clicked)\n",
    "widgets.VBox([player2_move, button, out])"
   ]
  },
  {
   "cell_type": "markdown",
   "metadata": {
    "id": "42-Gizro833h"
   },
   "source": [
    "### Compuerta Z\n",
    "\n",
    "Permite una rotación de 180° sobre el eje Z, también reflejado como un cambio de fase."
   ]
  },
  {
   "cell_type": "code",
   "execution_count": null,
   "metadata": {
    "colab": {
     "base_uri": "https://localhost:8080/",
     "height": 1000
    },
    "id": "Zjn9eEwL9A9e",
    "outputId": "af4efdcf-ebc6-49a6-b00e-771dcda511be"
   },
   "outputs": [],
   "source": [
    "# HACIENDO USO DE LA COMPUERTA Z\n",
    "\n",
    "qc_Z1 = QuantumCircuit(1) #Creamos un circuito de 1 solo qubit. Por defecto, siempre se inicializa en |0>\n",
    "\n",
    "qc_Z1.z(0)  #Nos colocamos en el estado |0> y aplicamos Z\n",
    "\n",
    "visualize_transition(qc_Z1, trace=True, fpg=10) #Visualizamos la transición.\n",
    "#Si se quiere ver la trayectoria, trace=True. De lo contrario, False\n",
    "#Para reducir tamaño de simulación se puede modificar la resolución de la trayectoria: fpg = 5 - 30"
   ]
  },
  {
   "cell_type": "code",
   "execution_count": null,
   "metadata": {
    "colab": {
     "base_uri": "https://localhost:8080/",
     "height": 1000
    },
    "id": "QVEP4QDI9eFp",
    "outputId": "e983df96-caf7-4333-e925-d3c2b96ec8bb"
   },
   "outputs": [],
   "source": [
    "# HACIENDO USO DE LA COMPUERTA Z\n",
    "\n",
    "qc_Z2 = QuantumCircuit(1) #Creamos un circuito de 1 solo qubit. Por defecto, siempre se inicializa en |0>\n",
    "\n",
    "qc_Z2.x(0)  #Nos colocamos en el estado |1>\n",
    "qc_Z2.z(0)  # y aplicamos Z\n",
    "\n",
    "visualize_transition(qc_Z2, trace=True, fpg=10) #Visualizamos la transición.\n",
    "#Si se quiere ver la trayectoria, trace=True. De lo contrario, False\n",
    "#Para reducir tamaño de simulación se puede modificar la resolución de la trayectoria: fpg = 5 - 30"
   ]
  },
  {
   "cell_type": "code",
   "execution_count": null,
   "metadata": {
    "colab": {
     "base_uri": "https://localhost:8080/",
     "height": 1000
    },
    "id": "KN5ZdbE990Ry",
    "outputId": "d76d0a63-b765-420d-ad90-8f92bf795d2f"
   },
   "outputs": [],
   "source": [
    "# HACIENDO USO DE LA COMPUERTA Z\n",
    "\n",
    "qc_Z3 = QuantumCircuit(1) #Creamos un circuito de 1 solo qubit. Por defecto, siempre se inicializa en |0>\n",
    "\n",
    "qc_Z3.h(0)  #Nos colocamos en el estado |+>\n",
    "qc_Z3.z(0)  # y aplicamos Z\n",
    "\n",
    "visualize_transition(qc_Z3, trace=True, fpg=10) #Visualizamos la transición.\n",
    "#Si se quiere ver la trayectoria, trace=True. De lo contrario, False\n",
    "#Para reducir tamaño de simulación se puede modificar la resolución de la trayectoria: fpg = 5 - 30"
   ]
  },
  {
   "cell_type": "code",
   "execution_count": null,
   "metadata": {
    "colab": {
     "base_uri": "https://localhost:8080/",
     "height": 1000
    },
    "id": "5UyykIqP-FFs",
    "outputId": "bcb7850d-41d2-43d3-e40c-85d945bc3726"
   },
   "outputs": [],
   "source": [
    "# HACIENDO USO DE LA COMPUERTA Z\n",
    "\n",
    "qc_Z4 = QuantumCircuit(1) #Creamos un circuito de 1 solo qubit. Por defecto, siempre se inicializa en |0>\n",
    "\n",
    "qc_Z4.h(0)  #Nos colocamos en el estado |+>\n",
    "qc_Z4.z(0)  # aplicamos Z\n",
    "qc_Z4.z(0)  # y aplicamos Z nuevamente\n",
    "\n",
    "visualize_transition(qc_Z4, trace=True, fpg=10) #Visualizamos la transición.\n",
    "#Si se quiere ver la trayectoria, trace=True. De lo contrario, False\n",
    "#Para reducir tamaño de simulación se puede modificar la resolución de la trayectoria: fpg = 5 - 30"
   ]
  },
  {
   "cell_type": "markdown",
   "metadata": {
    "id": "XoPS2mEA-VFB"
   },
   "source": [
    "**Reto**\n",
    "\n",
    "¿Cómo llegamos al estado $| 1 \\rangle$ sin ocupar compuertas X?"
   ]
  },
  {
   "cell_type": "code",
   "execution_count": null,
   "metadata": {
    "colab": {
     "base_uri": "https://localhost:8080/",
     "height": 1000
    },
    "id": "JW0izTF9-mnU",
    "outputId": "597c7471-506c-4585-cf30-994b7ac1d79d"
   },
   "outputs": [],
   "source": [
    "# HACIENDO USO DE LA COMPUERTA H y Z\n",
    "\n",
    "qc_Z5 = QuantumCircuit(1) #Creamos un circuito de 1 solo qubit. Por defecto, siempre se inicializa en |0>\n",
    "\n",
    "qc_Z5.h(0)  #Nos colocamos en el estado |+>\n",
    "qc_Z5.z(0)  # aplicamos Z\n",
    "qc_Z5.h(0)  # y aplicamos h nuevamente\n",
    "\n",
    "visualize_transition(qc_Z5, trace=True, fpg=10) #Visualizamos la transición.\n",
    "#Si se quiere ver la trayectoria, trace=True. De lo contrario, False\n",
    "#Para reducir tamaño de simulación se puede modificar la resolución de la trayectoria: fpg = 5 - 30"
   ]
  },
  {
   "cell_type": "markdown",
   "metadata": {
    "id": "UC1VYEeoHUEJ"
   },
   "source": [
    "## Circuitos Cuánticos\n",
    "\n",
    "Se trata de una mezcla de elementos en acción, como:\n",
    "\n",
    "*   Qubits\n",
    "*   Compuertas\n",
    "*   Mediciones\n",
    "*   Bits Clásicos\n",
    "\n"
   ]
  },
  {
   "cell_type": "code",
   "execution_count": null,
   "metadata": {
    "colab": {
     "base_uri": "https://localhost:8080/",
     "height": 255
    },
    "id": "81pkgruXHnlu",
    "outputId": "6feb1cdd-b751-41df-93e9-4e95729f2eb0"
   },
   "outputs": [],
   "source": [
    "# ANALIZANDO UN CIRCUITO SENCILLO DE 2 QUBITS\n",
    "\n",
    "qcM1 = QuantumCircuit(2, 2)\n",
    "qcM1.measure([0,1],[0,1])\n",
    "qcM1.draw('mpl')"
   ]
  },
  {
   "cell_type": "code",
   "execution_count": null,
   "metadata": {
    "colab": {
     "base_uri": "https://localhost:8080/",
     "height": 461
    },
    "id": "nDlsloHAH8mc",
    "outputId": "40af7949-cb59-496a-d24a-148a19bbdf89"
   },
   "outputs": [],
   "source": [
    "#MEDIMOS LA PROBABILIDAD\n",
    "backend = Aer.get_backend('qasm_simulator')\n",
    "job = execute(qcM1, backend = backend, shots = 1024)\n",
    "result = job.result()\n",
    "counts = result.get_counts()\n",
    "plot_histogram(counts)"
   ]
  },
  {
   "cell_type": "code",
   "execution_count": null,
   "metadata": {
    "colab": {
     "base_uri": "https://localhost:8080/",
     "height": 255
    },
    "id": "kds9oKtmIJ52",
    "outputId": "7176d407-36e9-414b-8496-0850dce80a79"
   },
   "outputs": [],
   "source": [
    "#ANALICEMOS UN CIRCUITO CON UNA DISTRIBUCIÓN DE PROBABILIDAD DEL 25%\n",
    "\n",
    "qcM2 = QuantumCircuit(2,2)\n",
    "qcM2.x(0)\n",
    "qcM2.h(0)\n",
    "qcM2.h(1)\n",
    "qcM2.measure([0,1],[0,1])\n",
    "qcM2.draw('mpl')"
   ]
  },
  {
   "cell_type": "code",
   "execution_count": null,
   "metadata": {
    "colab": {
     "base_uri": "https://localhost:8080/",
     "height": 461
    },
    "id": "cwsmYGnUIwz0",
    "outputId": "553da379-5bb1-4a04-9991-91af88ec5d5d"
   },
   "outputs": [],
   "source": [
    "#MEDIMOS LA PROBABILIDAD\n",
    "backend = Aer.get_backend('qasm_simulator')\n",
    "job = execute(qcM2, backend = backend, shots = 1024)\n",
    "result = job.result()\n",
    "counts = result.get_counts()\n",
    "plot_histogram(counts)"
   ]
  },
  {
   "cell_type": "code",
   "execution_count": null,
   "metadata": {
    "colab": {
     "base_uri": "https://localhost:8080/",
     "height": 384
    },
    "id": "kQomz0hXMIDz",
    "outputId": "8690d7d0-ea7e-4d59-c2e5-0bd32ff8a97f"
   },
   "outputs": [],
   "source": [
    "#GENEREMOS UN CIRCUITO CUÁNTICO DE MÁS QUBITS\n",
    "\n",
    "qcM3 = QuantumCircuit(4,4)\n",
    "\n",
    "for qubit in range(4):    #A cada qubit le aplicamos las siguientes compuertas\n",
    "    qcM3.x(qubit)\n",
    "    qcM3.h(qubit)\n",
    "\n",
    "qcM3.measure([0, 1, 2, 3], [0, 1, 2, 3])\n",
    "\n",
    "qcM3.draw('mpl')"
   ]
  },
  {
   "cell_type": "code",
   "execution_count": null,
   "metadata": {
    "colab": {
     "base_uri": "https://localhost:8080/",
     "height": 484
    },
    "id": "At17gJA7Mzm0",
    "outputId": "f8981881-396c-4a23-c3c0-66c59f91c8ac"
   },
   "outputs": [],
   "source": [
    "#MEDIMOS LA PROBABILIDAD\n",
    "backend = Aer.get_backend('qasm_simulator')\n",
    "job = execute(qcM3, backend = backend, shots = 1024)\n",
    "result = job.result()\n",
    "counts = result.get_counts()\n",
    "plot_histogram(counts)"
   ]
  },
  {
   "cell_type": "markdown",
   "metadata": {
    "id": "6tZIphvDI7ha"
   },
   "source": [
    "### COMPUERTA CX\n",
    "\n",
    "Esta es una compuerta multiqubit que funciona con un qubit de control y otro de destino."
   ]
  },
  {
   "cell_type": "code",
   "execution_count": null,
   "metadata": {
    "colab": {
     "base_uri": "https://localhost:8080/",
     "height": 255
    },
    "id": "0bvK34KzJLc7",
    "outputId": "609b7e90-24f9-47ab-9dfe-dd91c3a79d46"
   },
   "outputs": [],
   "source": [
    "#EXPERIMENTANDO CON LA COMPUERTA CX\n",
    "\n",
    "qcCX1 = QuantumCircuit(2, 2)\n",
    "\n",
    "# Aplicamos CX a qubits 0 y 1, donde se mantendrá inactiva hasta que no cambie de estado el qubit 0\n",
    "qcCX1.cx(0,1)\n",
    "qcCX1.measure([0, 1], [0, 1])\n",
    "qcCX1.draw('mpl')"
   ]
  },
  {
   "cell_type": "code",
   "execution_count": null,
   "metadata": {
    "colab": {
     "base_uri": "https://localhost:8080/",
     "height": 461
    },
    "id": "S1WMqIrMJgvm",
    "outputId": "795563c9-b94e-4307-ef57-22f814cd4211"
   },
   "outputs": [],
   "source": [
    "#MEDIMOS LA PROBABILIDAD\n",
    "backend = Aer.get_backend('qasm_simulator')\n",
    "job = execute(qcCX1, backend = backend, shots = 1024)\n",
    "result = job.result()\n",
    "counts = result.get_counts()\n",
    "plot_histogram(counts)"
   ]
  },
  {
   "cell_type": "code",
   "execution_count": null,
   "metadata": {
    "colab": {
     "base_uri": "https://localhost:8080/",
     "height": 255
    },
    "id": "56uo3Bh_JuRf",
    "outputId": "afbfc65a-e958-4cec-a217-f66b77747c93"
   },
   "outputs": [],
   "source": [
    "#EXPERIMENTANDO CON LA COMPUERTA CX\n",
    "\n",
    "qcCX2 = QuantumCircuit(2, 2)\n",
    "\n",
    "# Aplicamos CX a qubits 0 y 1, donde se mantendrá inactiva hasta que no cambie de estado el qubit 0\n",
    "qcCX2.x(0)\n",
    "qcCX2.cx(0,1)\n",
    "qcCX2.measure([0, 1], [0, 1])\n",
    "qcCX2.draw('mpl')"
   ]
  },
  {
   "cell_type": "code",
   "execution_count": null,
   "metadata": {
    "colab": {
     "base_uri": "https://localhost:8080/",
     "height": 461
    },
    "id": "nCeBkbiFJ_G1",
    "outputId": "a30d4703-e973-487d-9c58-a0eeefa4419f"
   },
   "outputs": [],
   "source": [
    "#MEDIMOS LA PROBABILIDAD\n",
    "backend = Aer.get_backend('qasm_simulator')\n",
    "job = execute(qcCX2, backend = backend, shots = 1024)\n",
    "result = job.result()\n",
    "counts = result.get_counts()\n",
    "plot_histogram(counts)"
   ]
  },
  {
   "cell_type": "markdown",
   "metadata": {
    "id": "IocL5-HnKVFQ"
   },
   "source": [
    "## Creando Entrelazamiento"
   ]
  },
  {
   "cell_type": "code",
   "execution_count": null,
   "metadata": {
    "colab": {
     "base_uri": "https://localhost:8080/",
     "height": 255
    },
    "id": "kp4nxhMWKYas",
    "outputId": "44e77369-a4b2-49cf-eb36-a42274187419"
   },
   "outputs": [],
   "source": [
    "#PARA CREAR EL ENTRELAZAMIENTO ES NECESARIO LA SUPERPOSICIÓN Y CX\n",
    "\n",
    "qcE1 = QuantumCircuit(2,2)\n",
    "\n",
    "qcE1.h(0)       # Aplicamos la Superposición\n",
    "qcE1.cx(0,1)    # Utilizamos la compuertas CNOT\n",
    "\n",
    "qcE1.measure([0, 1], [0, 1])\n",
    "qcE1.draw('mpl')"
   ]
  },
  {
   "cell_type": "code",
   "execution_count": null,
   "metadata": {
    "colab": {
     "base_uri": "https://localhost:8080/",
     "height": 461
    },
    "id": "GPlpl8boKztc",
    "outputId": "cdd670e8-3ca1-4137-81f7-d309086195e7"
   },
   "outputs": [],
   "source": [
    "#MEDIMOS LA PROBABILIDAD\n",
    "backend = Aer.get_backend('qasm_simulator')\n",
    "job = execute(qcE1, backend = backend, shots = 1024)\n",
    "result = job.result()\n",
    "counts = result.get_counts()\n",
    "plot_histogram(counts)"
   ]
  },
  {
   "cell_type": "markdown",
   "metadata": {
    "id": "NqZMXF4HLI8I"
   },
   "source": [
    "¡FELICITACIONES, ACABAS DE CREAR TU PRIMER ENTRELAZAMIENTO!\n",
    "\n",
    "Toma en cuenta que puedes obtener resultados diferentes cada vez, por lo que hay superposición. Pero pase lo que pase, ambos qubits deben estar en el mismo estado. ¡La forma en que se produce esta relación es fundamentalmente mecánica cuántica!"
   ]
  },
  {
   "cell_type": "code",
   "execution_count": null,
   "metadata": {
    "colab": {
     "base_uri": "https://localhost:8080/",
     "height": 255
    },
    "id": "NFZBIkwwLWmB",
    "outputId": "27da1599-7ea0-4dc4-847c-118716689e52"
   },
   "outputs": [],
   "source": [
    "#EXPERIMENTEMOS CON OTRO TIPO DE ENTRELAZAMIENTO\n",
    "\n",
    "qcE2 = QuantumCircuit(2,2)\n",
    "\n",
    "qcE2.h(0)     #Aplicamos Superposición\n",
    "qcE2.cx(0,1)  #Aplicamos CNOT\n",
    "qcE2.x(1)     #Aplicamos compuerta X en el qubit 1\n",
    "\n",
    "qcE2.measure([0, 1], [0, 1])\n",
    "qcE2.draw('mpl')"
   ]
  },
  {
   "cell_type": "code",
   "execution_count": null,
   "metadata": {
    "colab": {
     "base_uri": "https://localhost:8080/",
     "height": 461
    },
    "id": "_lDXsf_tLoP-",
    "outputId": "219c6b21-8129-487c-b478-792733507190"
   },
   "outputs": [],
   "source": [
    "#MEDIMOS LA PROBABILIDAD\n",
    "backend = Aer.get_backend('qasm_simulator')\n",
    "job = execute(qcE2, backend = backend, shots = 1024)\n",
    "result = job.result()\n",
    "counts = result.get_counts()\n",
    "plot_histogram(counts)"
   ]
  },
  {
   "cell_type": "markdown",
   "metadata": {
    "id": "o29yddrnLygj"
   },
   "source": [
    "Ahora, giramos el qubit 1 después de entrelazar los bits. Esto significa que los qubits siempre deben estar en desacuerdo entre sí. Este es otro ejemplo de entrelazamiento, donde los estados de ambos qubits dependen fundamentalmente uno del otro."
   ]
  },
  {
   "cell_type": "markdown",
   "metadata": {
    "id": "0rpzalOcOEGu"
   },
   "source": [
    "**Gracias por haber llegado hasta aquí**\n",
    "\n",
    "Espero y este taller te sirva para tu futuro académico y profesional"
   ]
  }
 ],
 "metadata": {
  "colab": {
   "provenance": []
  },
  "kernelspec": {
   "display_name": "Python 3 (ipykernel)",
   "language": "python",
   "name": "python3"
  },
  "language_info": {
   "codemirror_mode": {
    "name": "ipython",
    "version": 3
   },
   "file_extension": ".py",
   "mimetype": "text/x-python",
   "name": "python",
   "nbconvert_exporter": "python",
   "pygments_lexer": "ipython3",
   "version": "3.10.6"
  },
  "widgets": {
   "application/vnd.jupyter.widget-state+json": {
    "0125a196d1264f04b030c449f5c8ee1f": {
     "model_module": "@jupyter-widgets/base",
     "model_module_version": "1.2.0",
     "model_name": "LayoutModel",
     "state": {
      "_model_module": "@jupyter-widgets/base",
      "_model_module_version": "1.2.0",
      "_model_name": "LayoutModel",
      "_view_count": null,
      "_view_module": "@jupyter-widgets/base",
      "_view_module_version": "1.2.0",
      "_view_name": "LayoutView",
      "align_content": null,
      "align_items": null,
      "align_self": null,
      "border": null,
      "bottom": null,
      "display": null,
      "flex": null,
      "flex_flow": null,
      "grid_area": null,
      "grid_auto_columns": null,
      "grid_auto_flow": null,
      "grid_auto_rows": null,
      "grid_column": null,
      "grid_gap": null,
      "grid_row": null,
      "grid_template_areas": null,
      "grid_template_columns": null,
      "grid_template_rows": null,
      "height": null,
      "justify_content": null,
      "justify_items": null,
      "left": null,
      "margin": null,
      "max_height": null,
      "max_width": null,
      "min_height": null,
      "min_width": null,
      "object_fit": null,
      "object_position": null,
      "order": null,
      "overflow": null,
      "overflow_x": null,
      "overflow_y": null,
      "padding": null,
      "right": null,
      "top": null,
      "visibility": null,
      "width": null
     }
    },
    "0ab5b5947cf144a29b5af4764918e339": {
     "model_module": "@jupyter-widgets/base",
     "model_module_version": "1.2.0",
     "model_name": "LayoutModel",
     "state": {
      "_model_module": "@jupyter-widgets/base",
      "_model_module_version": "1.2.0",
      "_model_name": "LayoutModel",
      "_view_count": null,
      "_view_module": "@jupyter-widgets/base",
      "_view_module_version": "1.2.0",
      "_view_name": "LayoutView",
      "align_content": null,
      "align_items": null,
      "align_self": null,
      "border": null,
      "bottom": null,
      "display": null,
      "flex": null,
      "flex_flow": null,
      "grid_area": null,
      "grid_auto_columns": null,
      "grid_auto_flow": null,
      "grid_auto_rows": null,
      "grid_column": null,
      "grid_gap": null,
      "grid_row": null,
      "grid_template_areas": null,
      "grid_template_columns": null,
      "grid_template_rows": null,
      "height": null,
      "justify_content": null,
      "justify_items": null,
      "left": null,
      "margin": null,
      "max_height": null,
      "max_width": null,
      "min_height": null,
      "min_width": null,
      "object_fit": null,
      "object_position": null,
      "order": null,
      "overflow": null,
      "overflow_x": null,
      "overflow_y": null,
      "padding": null,
      "right": null,
      "top": null,
      "visibility": null,
      "width": null
     }
    },
    "12b148427f5845799699da8887749b2d": {
     "model_module": "@jupyter-widgets/controls",
     "model_module_version": "1.5.0",
     "model_name": "ButtonStyleModel",
     "state": {
      "_model_module": "@jupyter-widgets/controls",
      "_model_module_version": "1.5.0",
      "_model_name": "ButtonStyleModel",
      "_view_count": null,
      "_view_module": "@jupyter-widgets/base",
      "_view_module_version": "1.2.0",
      "_view_name": "StyleView",
      "button_color": null,
      "font_weight": ""
     }
    },
    "2501704e9da545349ce1df16bacf4c9d": {
     "model_module": "@jupyter-widgets/controls",
     "model_module_version": "1.5.0",
     "model_name": "VBoxModel",
     "state": {
      "_dom_classes": [],
      "_model_module": "@jupyter-widgets/controls",
      "_model_module_version": "1.5.0",
      "_model_name": "VBoxModel",
      "_view_count": null,
      "_view_module": "@jupyter-widgets/controls",
      "_view_module_version": "1.5.0",
      "_view_name": "VBoxView",
      "box_style": "",
      "children": [
       "IPY_MODEL_9b945fd5a3734493959ab493d513ea89",
       "IPY_MODEL_64bee3acc6a642cfa152c000dd4b9eeb",
       "IPY_MODEL_3a49780ea225447cacd7a7c4df1907f4"
      ],
      "layout": "IPY_MODEL_0ab5b5947cf144a29b5af4764918e339"
     }
    },
    "3a49780ea225447cacd7a7c4df1907f4": {
     "model_module": "@jupyter-widgets/output",
     "model_module_version": "1.0.0",
     "model_name": "OutputModel",
     "state": {
      "_dom_classes": [],
      "_model_module": "@jupyter-widgets/output",
      "_model_module_version": "1.0.0",
      "_model_name": "OutputModel",
      "_view_count": null,
      "_view_module": "@jupyter-widgets/output",
      "_view_module_version": "1.0.0",
      "_view_name": "OutputView",
      "layout": "IPY_MODEL_3e0f0352a9324ed09ebb510f3f15eb95",
      "msg_id": "",
      "outputs": [
       {
        "name": "stdout",
        "output_type": "stream",
        "text": [
         "Elegiste AGUILA\n",
         "Has perdido :( . La Computadora Cuántica Ganó. Intenta de nuevo \n",
         "\n",
         "\n"
        ]
       },
       {
        "name": "stdout",
        "output_type": "stream",
        "text": [
         "Elegiste AGUILA\n"
        ]
       },
       {
        "name": "stdout",
        "output_type": "stream",
        "text": [
         "Has ganado :D . ¡Excelente!\n",
         "\n",
         "\n"
        ]
       },
       {
        "name": "stdout",
        "output_type": "stream",
        "text": [
         "Elegiste AGUILA\n",
         "Has perdido :( . La Computadora Cuántica Ganó. Intenta de nuevo \n",
         "\n",
         "\n"
        ]
       },
       {
        "name": "stdout",
        "output_type": "stream",
        "text": [
         "Elegiste AGUILA\n",
         "Has perdido :( . La Computadora Cuántica Ganó. Intenta de nuevo \n",
         "\n",
         "\n"
        ]
       },
       {
        "name": "stdout",
        "output_type": "stream",
        "text": [
         "Elegiste AGUILA\n",
         "Has perdido :( . La Computadora Cuántica Ganó. Intenta de nuevo \n",
         "\n",
         "\n"
        ]
       },
       {
        "name": "stdout",
        "output_type": "stream",
        "text": [
         "Elegiste AGUILA\n",
         "Has ganado :D . ¡Excelente!\n",
         "\n",
         "\n"
        ]
       }
      ]
     }
    },
    "3e0f0352a9324ed09ebb510f3f15eb95": {
     "model_module": "@jupyter-widgets/base",
     "model_module_version": "1.2.0",
     "model_name": "LayoutModel",
     "state": {
      "_model_module": "@jupyter-widgets/base",
      "_model_module_version": "1.2.0",
      "_model_name": "LayoutModel",
      "_view_count": null,
      "_view_module": "@jupyter-widgets/base",
      "_view_module_version": "1.2.0",
      "_view_name": "LayoutView",
      "align_content": null,
      "align_items": null,
      "align_self": null,
      "border": null,
      "bottom": null,
      "display": null,
      "flex": null,
      "flex_flow": null,
      "grid_area": null,
      "grid_auto_columns": null,
      "grid_auto_flow": null,
      "grid_auto_rows": null,
      "grid_column": null,
      "grid_gap": null,
      "grid_row": null,
      "grid_template_areas": null,
      "grid_template_columns": null,
      "grid_template_rows": null,
      "height": null,
      "justify_content": null,
      "justify_items": null,
      "left": null,
      "margin": null,
      "max_height": null,
      "max_width": null,
      "min_height": null,
      "min_width": null,
      "object_fit": null,
      "object_position": null,
      "order": null,
      "overflow": null,
      "overflow_x": null,
      "overflow_y": null,
      "padding": null,
      "right": null,
      "top": null,
      "visibility": null,
      "width": null
     }
    },
    "64bee3acc6a642cfa152c000dd4b9eeb": {
     "model_module": "@jupyter-widgets/controls",
     "model_module_version": "1.5.0",
     "model_name": "ButtonModel",
     "state": {
      "_dom_classes": [],
      "_model_module": "@jupyter-widgets/controls",
      "_model_module_version": "1.5.0",
      "_model_name": "ButtonModel",
      "_view_count": null,
      "_view_module": "@jupyter-widgets/controls",
      "_view_module_version": "1.5.0",
      "_view_name": "ButtonView",
      "button_style": "",
      "description": "¡Juguemos!",
      "disabled": false,
      "icon": "",
      "layout": "IPY_MODEL_a93da1d2885944be8e774e5e542f425e",
      "style": "IPY_MODEL_12b148427f5845799699da8887749b2d",
      "tooltip": ""
     }
    },
    "9b945fd5a3734493959ab493d513ea89": {
     "model_module": "@jupyter-widgets/controls",
     "model_module_version": "1.5.0",
     "model_name": "DropdownModel",
     "state": {
      "_dom_classes": [],
      "_model_module": "@jupyter-widgets/controls",
      "_model_module_version": "1.5.0",
      "_model_name": "DropdownModel",
      "_options_labels": [
       "Jugar con SOL",
       "Jugar con AGUILA"
      ],
      "_view_count": null,
      "_view_module": "@jupyter-widgets/controls",
      "_view_module_version": "1.5.0",
      "_view_name": "DropdownView",
      "description": "Elección: ",
      "description_tooltip": null,
      "disabled": false,
      "index": 1,
      "layout": "IPY_MODEL_0125a196d1264f04b030c449f5c8ee1f",
      "style": "IPY_MODEL_f53d7e28f6174caeaebd95f0076c67f5"
     }
    },
    "a93da1d2885944be8e774e5e542f425e": {
     "model_module": "@jupyter-widgets/base",
     "model_module_version": "1.2.0",
     "model_name": "LayoutModel",
     "state": {
      "_model_module": "@jupyter-widgets/base",
      "_model_module_version": "1.2.0",
      "_model_name": "LayoutModel",
      "_view_count": null,
      "_view_module": "@jupyter-widgets/base",
      "_view_module_version": "1.2.0",
      "_view_name": "LayoutView",
      "align_content": null,
      "align_items": null,
      "align_self": null,
      "border": null,
      "bottom": null,
      "display": null,
      "flex": null,
      "flex_flow": null,
      "grid_area": null,
      "grid_auto_columns": null,
      "grid_auto_flow": null,
      "grid_auto_rows": null,
      "grid_column": null,
      "grid_gap": null,
      "grid_row": null,
      "grid_template_areas": null,
      "grid_template_columns": null,
      "grid_template_rows": null,
      "height": null,
      "justify_content": null,
      "justify_items": null,
      "left": null,
      "margin": null,
      "max_height": null,
      "max_width": null,
      "min_height": null,
      "min_width": null,
      "object_fit": null,
      "object_position": null,
      "order": null,
      "overflow": null,
      "overflow_x": null,
      "overflow_y": null,
      "padding": null,
      "right": null,
      "top": null,
      "visibility": null,
      "width": null
     }
    },
    "f53d7e28f6174caeaebd95f0076c67f5": {
     "model_module": "@jupyter-widgets/controls",
     "model_module_version": "1.5.0",
     "model_name": "DescriptionStyleModel",
     "state": {
      "_model_module": "@jupyter-widgets/controls",
      "_model_module_version": "1.5.0",
      "_model_name": "DescriptionStyleModel",
      "_view_count": null,
      "_view_module": "@jupyter-widgets/base",
      "_view_module_version": "1.2.0",
      "_view_name": "StyleView",
      "description_width": ""
     }
    }
   }
  }
 },
 "nbformat": 4,
 "nbformat_minor": 1
}
